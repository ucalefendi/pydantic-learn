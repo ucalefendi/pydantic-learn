{
 "cells": [
  {
   "cell_type": "code",
   "execution_count": 17,
   "metadata": {},
   "outputs": [],
   "source": [
    "import pydantic\n"
   ]
  },
  {
   "cell_type": "code",
   "execution_count": 1,
   "metadata": {},
   "outputs": [
    {
     "name": "stdout",
     "output_type": "stream",
     "text": [
      "Expected id tobe an int str\n"
     ]
    }
   ],
   "source": [
    "class User:\n",
    "    def __init__(self,id: int,name=\"akif agayev\"):\n",
    "        if not isinstance(id,int):\n",
    "            raise TypeError(f\"Expected id tobe an int {type(id).__name__}\")\n",
    "        \n",
    "        if not isinstance(name,str):\n",
    "            raise TypeError(f\"Expected name tobe an str {type(name).__name__}\")\n",
    "        \n",
    "\n",
    "        self.id = id\n",
    "        self.name = name\n",
    "\n",
    "try:\n",
    "    user = User(\"1254\")   \n",
    "except TypeError as e:\n",
    "    print(e)\n",
    "\n",
    "\n",
    "\n"
   ]
  },
  {
   "cell_type": "code",
   "execution_count": 2,
   "metadata": {},
   "outputs": [
    {
     "name": "stdout",
     "output_type": "stream",
     "text": [
      "id=45 name='malik hesenov'\n",
      "{'id'}\n",
      "{'name', 'id'}\n"
     ]
    }
   ],
   "source": [
    "from pydantic import BaseModel\n",
    "\n",
    "\n",
    "class User(BaseModel):\n",
    "\n",
    "    id : int\n",
    "    name : str = \"malik hesenov\"\n",
    "\n",
    "\n",
    "user = User(id=\"45\") \n",
    "print(user)   \n",
    "print(user.model_fields_set)\n",
    "user = User(id=45,name=\"hafiz haciyev\")\n",
    "print(user.model_fields_set)"
   ]
  },
  {
   "cell_type": "code",
   "execution_count": 3,
   "metadata": {},
   "outputs": [
    {
     "name": "stdout",
     "output_type": "stream",
     "text": [
      "{'id': 45, 'name': 'hafiz haciyev'}\n",
      "{\"id\":45,\"name\":\"hafiz haciyev\"}\n",
      "{'properties': {'id': {'title': 'Id', 'type': 'integer'}, 'name': {'default': 'malik hesenov', 'title': 'Name', 'type': 'string'}}, 'required': ['id'], 'title': 'User', 'type': 'object'}\n"
     ]
    }
   ],
   "source": [
    "print(user.model_dump())\n",
    "print(user.model_dump_json())\n",
    "print(user.model_json_schema())"
   ]
  },
  {
   "cell_type": "code",
   "execution_count": 4,
   "metadata": {},
   "outputs": [
    {
     "name": "stdout",
     "output_type": "stream",
     "text": [
      "name='abseron mariot' location='Baki' foods=[Food(name='Cheese pizza', price=45.0, ingridients=['Cheese', 'tomato', 'Dough']), Food(name='Rice', price=852.0, ingridients=['rice', 'poteto', 'Dough']), Food(name='Rice-souse', price=552.0, ingridients=None)]\n",
      "{'name': 'abseron mariot', 'location': 'Baki', 'foods': [{'name': 'Cheese pizza', 'price': 45.0, 'ingridients': ['Cheese', 'tomato', 'Dough']}, {'name': 'Rice', 'price': 852.0, 'ingridients': ['rice', 'poteto', 'Dough']}, {'name': 'Rice-souse', 'price': 552.0, 'ingridients': None}]}\n"
     ]
    }
   ],
   "source": [
    "from typing import Optional,List\n",
    "\n",
    "\n",
    "class Food(BaseModel):\n",
    "    name : str\n",
    "    price : float\n",
    "    ingridients : Optional[List[str]] = None\n",
    "\n",
    "\n",
    "class Resturant(BaseModel):\n",
    "    name: str\n",
    "    location: str\n",
    "    foods: List[Food] \n",
    "\n",
    "\n",
    "resturant_instance = Resturant(\n",
    "    name=\"abseron mariot\",\n",
    "    location=\"Baki\",\n",
    "    foods=[\n",
    "        {'name':\"Cheese pizza\",\"price\":45,\"ingridients\":[\"Cheese\",\"tomato\",\"Dough\"]},\n",
    "        {'name':\"Rice\",\"price\":852,\"ingridients\":[\"rice\",\"poteto\",\"Dough\"]},\n",
    "        {'name':\"Rice-souse\",\"price\":552}\n",
    "    ]\n",
    ")       \n",
    "\n",
    "\n",
    "print(resturant_instance)\n",
    "print(resturant_instance.model_dump())\n"
   ]
  },
  {
   "cell_type": "code",
   "execution_count": 5,
   "metadata": {},
   "outputs": [
    {
     "name": "stdout",
     "output_type": "stream",
     "text": [
      "Requirement already satisfied: pydantic[email] in c:\\users\\user\\desktop\\yeni layiheler\\generative ai lessons 2\\projectml2\\lib\\site-packages (2.10.6)\n",
      "Requirement already satisfied: annotated-types>=0.6.0 in c:\\users\\user\\desktop\\yeni layiheler\\generative ai lessons 2\\projectml2\\lib\\site-packages (from pydantic[email]) (0.7.0)\n",
      "Requirement already satisfied: pydantic-core==2.27.2 in c:\\users\\user\\desktop\\yeni layiheler\\generative ai lessons 2\\projectml2\\lib\\site-packages (from pydantic[email]) (2.27.2)\n",
      "Requirement already satisfied: typing-extensions>=4.12.2 in c:\\users\\user\\desktop\\yeni layiheler\\generative ai lessons 2\\projectml2\\lib\\site-packages (from pydantic[email]) (4.12.2)\n",
      "Requirement already satisfied: email-validator>=2.0.0 in c:\\users\\user\\desktop\\yeni layiheler\\generative ai lessons 2\\projectml2\\lib\\site-packages (from pydantic[email]) (2.2.0)\n",
      "Requirement already satisfied: dnspython>=2.0.0 in c:\\users\\user\\desktop\\yeni layiheler\\generative ai lessons 2\\projectml2\\lib\\site-packages (from email-validator>=2.0.0->pydantic[email]) (2.7.0)\n",
      "Requirement already satisfied: idna>=2.0.0 in c:\\users\\user\\desktop\\yeni layiheler\\generative ai lessons 2\\projectml2\\lib\\site-packages (from email-validator>=2.0.0->pydantic[email]) (3.10)\n"
     ]
    },
    {
     "name": "stderr",
     "output_type": "stream",
     "text": [
      "\n",
      "[notice] A new release of pip is available: 24.2 -> 25.0.1\n",
      "[notice] To update, run: python.exe -m pip install --upgrade pip\n"
     ]
    }
   ],
   "source": [
    "!pip install pydantic[email]\n"
   ]
  },
  {
   "cell_type": "code",
   "execution_count": 6,
   "metadata": {},
   "outputs": [],
   "source": [
    "from typing import List\n",
    "from pydantic import BaseModel,EmailStr,PositiveInt,conlist,Field,HttpUrl\n",
    "import re\n",
    "\n",
    "class Address(BaseModel):\n",
    "    street : str\n",
    "    city : str\n",
    "    state : str\n",
    "    zip_code : str\n",
    "\n",
    "\n",
    "class Employee(BaseModel):\n",
    "    name : str\n",
    "    position: str\n",
    "    email : EmailStr\n",
    "\n",
    "class Owner(BaseModel):\n",
    "    name: str\n",
    "    email: EmailStr\n",
    "\n",
    "\n",
    "\n",
    "class Resturant(BaseModel):\n",
    "    name :str = Field(...,pattern=r\"^[a-zA-Z0-9]+$\")\n",
    "    owner : Owner\n",
    "    address : Address\n",
    "    employees : conlist(Employee ,min_length=2)\n",
    "    number_of_seats : PositiveInt\n",
    "    delivery : bool\n",
    "    website : HttpUrl\n",
    "\n",
    "\n",
    "resturant_instance_1 = Resturant(\n",
    "    name=\"Tastyparty\",\n",
    "    owner={\n",
    "        \"name\":\"eldar qasimov\",\n",
    "        \"email\":\"eldar@mail.ru\"\n",
    "    },\n",
    "    address={\n",
    "        \"street\":\"h.cavid\",\n",
    "        \"city\":\"baku\",\n",
    "        \"state\":\"class\",\n",
    "        \"zip_code\":\"456\"\n",
    "    },\n",
    "    employees=[\n",
    "        {\"name\":\"david collins\",\n",
    "        \"position\":\"servant\",\n",
    "        \"email\":\"collins@gmail.com\"},\n",
    "\n",
    "        {\"name\":\"david bakhem\",\n",
    "        \"position\":\"CEO\",\n",
    "        \"email\":\"beckhams@gmail.com\"}\n",
    "        ],\n",
    "    number_of_seats= 45,\n",
    "    delivery=True,\n",
    "    website=\"https://www.website.com\"\n",
    "        )    \n"
   ]
  },
  {
   "cell_type": "code",
   "execution_count": 7,
   "metadata": {},
   "outputs": [
    {
     "name": "stdout",
     "output_type": "stream",
     "text": [
      "EL DAR\n"
     ]
    }
   ],
   "source": [
    "from pydantic import BaseModel,EmailStr,field_validator\n",
    "\n",
    "class Owner(BaseModel):\n",
    "    name: str\n",
    "    email: EmailStr\n",
    "\n",
    "    @field_validator(\"name\")\n",
    "    @classmethod\n",
    "    def name_must_contain_space(cls,v:str) -> str:\n",
    "\n",
    "        if \" \" not in v:\n",
    "            raise ValueError(\"Owner name must contain a space\")\n",
    "        return v.upper()\n",
    "    \n",
    "\n",
    "try:\n",
    "    owner_instance = Owner(name=\"el dar\",email=\"eldar@gmail.com\") \n",
    "except ValueError as e:\n",
    "    print(e)\n",
    "\n",
    "print(owner_instance.name)      \n",
    "    \n"
   ]
  },
  {
   "cell_type": "code",
   "execution_count": 8,
   "metadata": {},
   "outputs": [
    {
     "name": "stdout",
     "output_type": "stream",
     "text": [
      "name='Ucal Efendi' email='ucal@mail.ru'\n"
     ]
    }
   ],
   "source": [
    "from typing import Any\n",
    "from pydantic import BaseModel,EmailStr,ValidationError,model_validator\n",
    "\n",
    "\n",
    "class Owner(BaseModel):\n",
    "    name:str\n",
    "    email: EmailStr\n",
    "\n",
    "\n",
    "    @model_validator(mode=\"before\")\n",
    "    @classmethod\n",
    "    def check_sensitive_info_omitted(cls,data:Any) -> Any:\n",
    "        if isinstance(data,dict):\n",
    "            if \"password\" in data:\n",
    "                raise ValueError(\"password should not be included\")\n",
    "            if \"card_number\" in data:\n",
    "                raise ValueError(\"card number should not be included\")\n",
    "        return data\n",
    "\n",
    "    @model_validator(mode=\"after\")\n",
    "    def check_name_contains_space(self) -> 'Owner':\n",
    "\n",
    "        if  \" \" not in self.name:\n",
    "            raise ValueError(\"Owner name must contain space\")\n",
    "        return self\n",
    "\n",
    "\n",
    "print(Owner(name=\"Ucal Efendi\",email=\"ucal@mail.ru\"))    \n",
    "\n",
    "\n",
    "try:\n",
    "    # owner=Owner(name=\"Ucal Efendi\",email=\"ucal@mail.ru\",password=\"12345\")\n",
    "    owner=Owner(name=\"Ucal Efendi\",email=\"ucal@mail.ru\")\n",
    "except ValidationError as e:\n",
    "        print(e)\n"
   ]
  },
  {
   "cell_type": "code",
   "execution_count": 9,
   "metadata": {},
   "outputs": [
    {
     "name": "stdout",
     "output_type": "stream",
     "text": [
      "Ucal Efendi\n"
     ]
    }
   ],
   "source": [
    "##\n",
    "from pydantic import BaseModel,Field\n",
    "\n",
    "\n",
    "class User(BaseModel):\n",
    "\n",
    "    name :str = \"Eldar Memmedov\"\n",
    "\n",
    "    name :str = Field(default=\"Ucal Efendi\")\n",
    "\n",
    "\n",
    "user = User()\n",
    "\n",
    "print(user.name)\n"
   ]
  },
  {
   "cell_type": "code",
   "execution_count": 10,
   "metadata": {},
   "outputs": [
    {
     "name": "stdout",
     "output_type": "stream",
     "text": [
      "id='a151c67a22f3423bbbac87cb0760a3f6'\n"
     ]
    }
   ],
   "source": [
    "from uuid import uuid4\n",
    "\n",
    "from pydantic import BaseModel,Field\n",
    "\n",
    "class User(BaseModel):\n",
    "\n",
    "    id :int = Field(default_factory=lambda : uuid4().hex)\n",
    "\n",
    "\n",
    "user = User()\n",
    "\n",
    "print(user)"
   ]
  },
  {
   "cell_type": "code",
   "execution_count": 11,
   "metadata": {},
   "outputs": [
    {
     "name": "stdout",
     "output_type": "stream",
     "text": [
      "name='ayten salmanov'\n",
      "{'username': 'ayten salmanov'}\n",
      "<class 'dict'>\n"
     ]
    }
   ],
   "source": [
    "from pydantic import BaseModel,Field\n",
    "\n",
    "class User(BaseModel):\n",
    "\n",
    "    name :str = Field(...,alias=\"username\")\n",
    "\n",
    "\n",
    "\n",
    "user = User(username=\"ayten salmanov\")\n",
    "print(user)\n",
    "print(user.model_dump(by_alias=True))\n",
    "print(type(user.model_dump(by_alias=True)))"
   ]
  },
  {
   "cell_type": "code",
   "execution_count": 12,
   "metadata": {},
   "outputs": [
    {
     "name": "stdout",
     "output_type": "stream",
     "text": [
      "{'username': '564', 'email': 'emailabdul@mail.ru', 'age': 5, 'heigh': 56.0, 'is_active': True, 'balance': Decimal('6'), 'favorite_number': [45, 85, 87, 8, 25, 154]}\n"
     ]
    }
   ],
   "source": [
    "#look at Field constraints\n",
    "\n",
    "\n",
    "from pydantic import BaseModel,Field,EmailStr\n",
    "from typing import List\n",
    "from decimal import Decimal\n",
    "\n",
    "\n",
    "class User(BaseModel):\n",
    "    username :str = Field(...,min_length=3,max_length=10,pattern=r'^\\w+$')\n",
    "    email : str = Field(...)\n",
    "    age :int = Field(...,gt=0,le=120)\n",
    "    heigh :float = Field(...,gt=0.0)\n",
    "    is_active :bool  = Field(True)\n",
    "    balance :Decimal = Field(...,max_digits=10,decimal_places=2)\n",
    "    favorite_number :List[int] = Field(...,min_items=1)\n",
    "\n",
    "\n",
    "user = User(\n",
    "    username=\"564\",\n",
    "    email=\"emailabdul@mail.ru\",\n",
    "    age=5,\n",
    "    heigh=56,\n",
    "    is_active=True,\n",
    "    balance=6,\n",
    "    favorite_number=[45,85,87,8,25,154]\n",
    ")    \n",
    "\n",
    "print(user.model_dump())\n"
   ]
  },
  {
   "cell_type": "code",
   "execution_count": 13,
   "metadata": {},
   "outputs": [
    {
     "name": "stdout",
     "output_type": "stream",
     "text": [
      "{'name': 'Ucal', 'birth_year': 1994, 'age': 31}\n",
      "<property object at 0x000001E2AEC77650>\n"
     ]
    }
   ],
   "source": [
    "from pydantic import BaseModel,computed_field\n",
    "from datetime import datetime\n",
    "\n",
    "\n",
    "class Person(BaseModel):\n",
    "    name: str\n",
    "    birth_year: int\n",
    "\n",
    "    @computed_field\n",
    "    @property\n",
    "    def age(self) ->int:\n",
    "\n",
    "        current_year = datetime.now().year\n",
    "        return current_year - self.birth_year\n",
    "    \n",
    "\n",
    "print(Person(name=\"Ucal\",birth_year=1994).model_dump()) \n",
    "\n",
    "print(Person.age)\n"
   ]
  },
  {
   "cell_type": "code",
   "execution_count": 14,
   "metadata": {},
   "outputs": [
    {
     "name": "stdout",
     "output_type": "stream",
     "text": [
      "name='Ucal Efendi' birth_year=455 age=1570\n"
     ]
    }
   ],
   "source": [
    "from pydantic import BaseModel,ValidationError,field_validator\n",
    "from datetime import datetime\n",
    "\n",
    "\n",
    "\n",
    "class Person(BaseModel):\n",
    "    name: str\n",
    "    birth_year: int\n",
    "\n",
    "    @computed_field\n",
    "    @property\n",
    "    def age(self) ->int:\n",
    "\n",
    "        current_year = datetime.now().year\n",
    "        return current_year - self.birth_year\n",
    "    \n",
    "    @field_validator(\"birth_year\")\n",
    "    @classmethod\n",
    "    def validate_age(cls, v :int) -> int:\n",
    "\n",
    "        current_year = datetime.now().year\n",
    "        if current_year - v < 18:\n",
    "            ValidationError(\"Person must be 18 years or older\")\n",
    "\n",
    "        return v \n",
    "\n",
    "\n",
    "try:\n",
    "    print(Person(name=\"Ucal Efendi\",birth_year=455))   \n",
    "except ValidationError as e:\n",
    "    print(e)  \n",
    "     \n"
   ]
  },
  {
   "cell_type": "code",
   "execution_count": 15,
   "metadata": {},
   "outputs": [
    {
     "name": "stdout",
     "output_type": "stream",
     "text": [
      "4\n"
     ]
    }
   ],
   "source": [
    "from dataclasses import dataclass ,field\n",
    "from typing import List,Optional\n",
    "from pydantic import Field,TypeAdapter\n",
    "\n",
    "@dataclass\n",
    "class User:\n",
    "    id :int\n",
    "    name: str = \"ucal efendi\"\n",
    "    age: Optional[int] = field(default=None,metadata=dict(title=\"The age of user\",description = \"do not lie\",ge = 18))\n",
    "    height: Optional[int] = Field(None,title=\"the height in cm\",ge=50,le=300) \n",
    "    friends: List[int]  = field(default_factory= lambda : [0])  \n",
    "\n",
    "\n",
    "\n",
    "print(len(TypeAdapter(User).json_schema()))\n",
    "\n",
    "    "
   ]
  },
  {
   "cell_type": "code",
   "execution_count": 16,
   "metadata": {},
   "outputs": [
    {
     "name": "stdout",
     "output_type": "stream",
     "text": [
      "id=1 username='halkman'\n"
     ]
    }
   ],
   "source": [
    "from pydantic import BaseModel,ValidationError\n",
    "\n",
    "\n",
    "\n",
    "class User(BaseModel):\n",
    "    id :int\n",
    "    username :str\n",
    "\n",
    "\n",
    "print(User.model_validate({\"id\":1,'username':\"halkman\"}))    "
   ]
  },
  {
   "cell_type": "code",
   "execution_count": 20,
   "metadata": {},
   "outputs": [
    {
     "name": "stdout",
     "output_type": "stream",
     "text": [
      "1 validation error for User\n",
      "username\n",
      "  Input should be a valid string [type=string_type, input_value=855, input_type=int]\n",
      "    For further information visit https://errors.pydantic.dev/2.10/v/string_type\n"
     ]
    }
   ],
   "source": [
    "try:\n",
    "    User.model_validate({\"id\":5,\"username\":855},strict=True)\n",
    "except ValidationError as exc:\n",
    "    print(exc)  \n"
   ]
  },
  {
   "cell_type": "code",
   "execution_count": 38,
   "metadata": {},
   "outputs": [
    {
     "name": "stdout",
     "output_type": "stream",
     "text": [
      "{'auth_key': 'test_auth_key', 'api_key': 'test_api_key'}\n"
     ]
    }
   ],
   "source": [
    "import os\n",
    "from pydantic import Field\n",
    "from pydantic_settings import BaseSettings\n",
    "\n",
    "\n",
    "class Settings(BaseSettings):\n",
    "    auth_key: str = Field(...)\n",
    "    api_key: str = Field(...,alias=\"my_api_key\")\n",
    "\n",
    "\n",
    "    class Config:\n",
    "        populate_by_name = True\n",
    "\n",
    "\n",
    "\n",
    "\n",
    "\n",
    "\n",
    "\n",
    "print(Settings(auth_key=\"test_auth_key\",my_api_key=\"test_api_key\").model_dump())    "
   ]
  },
  {
   "cell_type": "code",
   "execution_count": null,
   "metadata": {},
   "outputs": [],
   "source": [
    "import os\n",
    "from pydantic import Field,AliasChoices\n",
    "from pydantic_settings import BaseSettings\n",
    "\n",
    "os.environ[\"AUTH_KEY\"] = \"test_auth_key\"\n",
    "os.environ['MY_API_KEY'] = \"test\"\n",
    "os.environ[\"ENV2\"] = \"http://mysuperurl.com\"\n",
    "\n",
    "\n",
    "class Setting(BaseSettings):\n",
    "\n",
    "    service_name:str = Field(default=\"default\")\n",
    "    auth_key: str\n",
    "    api_key: str = Field(alias=\"my_api_key\")\n",
    "    url: str = Field(validation_alias=AliasChoices(\"env1\",\"env2\"))"
   ]
  }
 ],
 "metadata": {
  "kernelspec": {
   "display_name": "projectml2",
   "language": "python",
   "name": "python3"
  },
  "language_info": {
   "codemirror_mode": {
    "name": "ipython",
    "version": 3
   },
   "file_extension": ".py",
   "mimetype": "text/x-python",
   "name": "python",
   "nbconvert_exporter": "python",
   "pygments_lexer": "ipython3",
   "version": "3.12.5"
  }
 },
 "nbformat": 4,
 "nbformat_minor": 2
}
