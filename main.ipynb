{
 "cells": [
  {
   "cell_type": "code",
   "execution_count": null,
   "metadata": {},
   "outputs": [
    {
     "name": "stdout",
     "output_type": "stream",
     "text": [
      "2.10.6\n"
     ]
    }
   ],
   "source": [
    "import pydantic\n"
   ]
  },
  {
   "cell_type": "code",
   "execution_count": 4,
   "metadata": {},
   "outputs": [
    {
     "name": "stdout",
     "output_type": "stream",
     "text": [
      "Expected id tobe an int str\n"
     ]
    }
   ],
   "source": [
    "class User:\n",
    "    def __init__(self,id: int,name=\"akif agayev\"):\n",
    "        if not isinstance(id,int):\n",
    "            raise TypeError(f\"Expected id tobe an int {type(id).__name__}\")\n",
    "        \n",
    "        if not isinstance(name,str):\n",
    "            raise TypeError(f\"Expected name tobe an str {type(name).__name__}\")\n",
    "        \n",
    "\n",
    "        self.id = id\n",
    "        self.name = name\n",
    "\n",
    "try:\n",
    "    user = User(\"1254\")   \n",
    "except TypeError as e:\n",
    "    print(e)\n",
    "\n",
    "\n",
    "\n"
   ]
  },
  {
   "cell_type": "code",
   "execution_count": 12,
   "metadata": {},
   "outputs": [
    {
     "name": "stdout",
     "output_type": "stream",
     "text": [
      "id=45 name='malik hesenov'\n",
      "{'id'}\n",
      "{'name', 'id'}\n"
     ]
    }
   ],
   "source": [
    "from pydantic import BaseModel\n",
    "\n",
    "\n",
    "class User(BaseModel):\n",
    "\n",
    "    id : int\n",
    "    name : str = \"malik hesenov\"\n",
    "\n",
    "\n",
    "user = User(id=\"45\") \n",
    "print(user)   \n",
    "print(user.model_fields_set)\n",
    "user = User(id=45,name=\"hafiz haciyev\")\n",
    "print(user.model_fields_set)"
   ]
  },
  {
   "cell_type": "code",
   "execution_count": 16,
   "metadata": {},
   "outputs": [
    {
     "name": "stdout",
     "output_type": "stream",
     "text": [
      "{'id': 45, 'name': 'hafiz haciyev'}\n",
      "{\"id\":45,\"name\":\"hafiz haciyev\"}\n",
      "{'properties': {'id': {'title': 'Id', 'type': 'integer'}, 'name': {'default': 'malik hesenov', 'title': 'Name', 'type': 'string'}}, 'required': ['id'], 'title': 'User', 'type': 'object'}\n"
     ]
    }
   ],
   "source": [
    "print(user.model_dump())\n",
    "print(user.model_dump_json())\n",
    "print(user.model_json_schema())"
   ]
  },
  {
   "cell_type": "code",
   "execution_count": null,
   "metadata": {},
   "outputs": [
    {
     "name": "stdout",
     "output_type": "stream",
     "text": [
      "name='abseron mariot' location='Baki' foods=[Food(name='Cheese pizza', price=45.0, ingridients=['Cheese', 'tomato', 'Dough']), Food(name='Rice', price=852.0, ingridients=['rice', 'poteto', 'Dough']), Food(name='Rice-souse', price=552.0, ingridients=None)]\n",
      "{'name': 'abseron mariot', 'location': 'Baki', 'foods': [{'name': 'Cheese pizza', 'price': 45.0, 'ingridients': ['Cheese', 'tomato', 'Dough']}, {'name': 'Rice', 'price': 852.0, 'ingridients': ['rice', 'poteto', 'Dough']}, {'name': 'Rice-souse', 'price': 552.0, 'ingridients': None}]}\n"
     ]
    }
   ],
   "source": [
    "from typing import Optional,List\n",
    "\n",
    "\n",
    "class Food(BaseModel):\n",
    "    name : str\n",
    "    price : float\n",
    "    ingridients : Optional[List[str]] = None\n",
    "\n",
    "\n",
    "class Resturant(BaseModel):\n",
    "    name: str\n",
    "    location: str\n",
    "    foods: List[Food] \n",
    "\n",
    "\n",
    "resturant_instance = Resturant(\n",
    "    name=\"abseron mariot\",\n",
    "    location=\"Baki\",\n",
    "    foods=[\n",
    "        {'name':\"Cheese pizza\",\"price\":45,\"ingridients\":[\"Cheese\",\"tomato\",\"Dough\"]},\n",
    "        {'name':\"Rice\",\"price\":852,\"ingridients\":[\"rice\",\"poteto\",\"Dough\"]},\n",
    "        {'name':\"Rice-souse\",\"price\":552}\n",
    "    ]\n",
    ")       \n",
    "\n",
    "\n",
    "print(resturant_instance)\n",
    "print(resturant_instance.model_dump())\n"
   ]
  },
  {
   "cell_type": "code",
   "execution_count": null,
   "metadata": {},
   "outputs": [],
   "source": [
    "!pip install pydantic[email]\n"
   ]
  },
  {
   "cell_type": "code",
   "execution_count": 30,
   "metadata": {},
   "outputs": [],
   "source": [
    "from typing import List\n",
    "from pydantic import BaseModel,EmailStr,PositiveInt,conlist,Field,HttpUrl\n",
    "import re\n",
    "\n",
    "class Address(BaseModel):\n",
    "    street : str\n",
    "    city : str\n",
    "    state : str\n",
    "    zip_code : str\n",
    "\n",
    "\n",
    "class Employee(BaseModel):\n",
    "    name : str\n",
    "    position: str\n",
    "    email : EmailStr\n",
    "\n",
    "class Owner(BaseModel):\n",
    "    name: str\n",
    "    email: EmailStr\n",
    "\n",
    "\n",
    "\n",
    "class Resturant(BaseModel):\n",
    "    name :str = Field(...,pattern=r\"^[a-zA-Z0-9]+$\")\n",
    "    owner : Owner\n",
    "    address : Address\n",
    "    employees : conlist(Employee ,min_length=2)\n",
    "    number_of_seats : PositiveInt\n",
    "    delivery : bool\n",
    "    website : HttpUrl\n",
    "\n",
    "\n",
    "resturant_instance_1 = Resturant(\n",
    "    name=\"Tastyparty\",\n",
    "    owner={\n",
    "        \"name\":\"eldar qasimov\",\n",
    "        \"email\":\"eldar@mail.ru\"\n",
    "    },\n",
    "    address={\n",
    "        \"street\":\"h.cavid\",\n",
    "        \"city\":\"baku\",\n",
    "        \"state\":\"class\",\n",
    "        \"zip_code\":\"456\"\n",
    "    },\n",
    "    employees=[\n",
    "        {\"name\":\"david collins\",\n",
    "        \"position\":\"servant\",\n",
    "        \"email\":\"collins@gmail.com\"},\n",
    "\n",
    "        {\"name\":\"david bakhem\",\n",
    "        \"position\":\"CEO\",\n",
    "        \"email\":\"beckhams@gmail.com\"}\n",
    "        ],\n",
    "    number_of_seats= 45,\n",
    "    delivery=True,\n",
    "    website=\"https://www.website.com\"\n",
    "        )    \n"
   ]
  },
  {
   "cell_type": "code",
   "execution_count": null,
   "metadata": {},
   "outputs": [],
   "source": [
    "from pydantic import BaseModel,EmailStr,field_validator\n",
    "\n",
    "class Owner(BaseModel):\n",
    "    name: str\n",
    "    email: EmailStr\n",
    "\n",
    "    @field_validator(\"name\")\n",
    "    @classmethod\n",
    "    def name_must_contain_space(cls,v:str) -> str:\n",
    "\n",
    "        if \" \" not in v:\n",
    "            raise ValueError(\"Owner name must contain a space\")\n",
    "        return v.title\n",
    "    \n",
    "\n",
    "try:\n",
    "    owner_instance = Owner(name=\"eldar\",email=\"eldar@gmail.com\") \n",
    "except ValueError as e:\n",
    "    print(e)  \n"
   ]
  }
 ],
 "metadata": {
  "kernelspec": {
   "display_name": "projectml2",
   "language": "python",
   "name": "python3"
  },
  "language_info": {
   "codemirror_mode": {
    "name": "ipython",
    "version": 3
   },
   "file_extension": ".py",
   "mimetype": "text/x-python",
   "name": "python",
   "nbconvert_exporter": "python",
   "pygments_lexer": "ipython3",
   "version": "3.12.5"
  }
 },
 "nbformat": 4,
 "nbformat_minor": 2
}
